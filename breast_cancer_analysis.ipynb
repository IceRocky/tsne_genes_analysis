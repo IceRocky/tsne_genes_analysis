{
 "cells": [
  {
   "cell_type": "code",
   "execution_count": 2,
   "id": "8fdf43df",
   "metadata": {},
   "outputs": [],
   "source": [
    "import numpy as np\n",
    "import matplotlib.pyplot as plt\n",
    "import pandas as pd\n",
    "\n",
    "import seaborn as sns\n",
    "from sklearn.decomposition import PCA, KernelPCA\n",
    "from sklearn.manifold import TSNE, MDS\n",
    "from sklearn.model_selection import cross_val_score\n",
    "\n",
    "\n",
    "from sklearn.feature_selection import mutual_info_classif, chi2, f_classif\n",
    "import warnings\n",
    "warnings.filterwarnings('ignore')\n"
   ]
  },
  {
   "cell_type": "code",
   "execution_count": 3,
   "id": "27b6693c",
   "metadata": {},
   "outputs": [],
   "source": [
    "df = pd.read_csv(\"Breast_GSE45827.csv\")\n"
   ]
  },
  {
   "cell_type": "markdown",
   "id": "874b792f",
   "metadata": {},
   "source": [
    "## EDA"
   ]
  },
  {
   "cell_type": "code",
   "execution_count": 4,
   "id": "15878742",
   "metadata": {},
   "outputs": [
    {
     "name": "stdout",
     "output_type": "stream",
     "text": [
      "<class 'pandas.core.frame.DataFrame'>\n",
      "RangeIndex: 151 entries, 0 to 150\n",
      "Columns: 54677 entries, samples to AFFX-TrpnX-M_at\n",
      "dtypes: float64(54675), int64(1), object(1)\n",
      "memory usage: 63.0+ MB\n"
     ]
    }
   ],
   "source": [
    "df.info()"
   ]
  },
  {
   "cell_type": "code",
   "execution_count": 5,
   "id": "f64c3637",
   "metadata": {},
   "outputs": [
    {
     "data": {
      "text/html": [
       "<div>\n",
       "<style scoped>\n",
       "    .dataframe tbody tr th:only-of-type {\n",
       "        vertical-align: middle;\n",
       "    }\n",
       "\n",
       "    .dataframe tbody tr th {\n",
       "        vertical-align: top;\n",
       "    }\n",
       "\n",
       "    .dataframe thead th {\n",
       "        text-align: right;\n",
       "    }\n",
       "</style>\n",
       "<table border=\"1\" class=\"dataframe\">\n",
       "  <thead>\n",
       "    <tr style=\"text-align: right;\">\n",
       "      <th></th>\n",
       "      <th>samples</th>\n",
       "      <th>type</th>\n",
       "      <th>1007_s_at</th>\n",
       "      <th>1053_at</th>\n",
       "      <th>117_at</th>\n",
       "      <th>121_at</th>\n",
       "      <th>1255_g_at</th>\n",
       "      <th>1294_at</th>\n",
       "      <th>1316_at</th>\n",
       "      <th>1320_at</th>\n",
       "      <th>...</th>\n",
       "      <th>AFFX-r2-Ec-bioD-3_at</th>\n",
       "      <th>AFFX-r2-Ec-bioD-5_at</th>\n",
       "      <th>AFFX-r2-P1-cre-3_at</th>\n",
       "      <th>AFFX-r2-P1-cre-5_at</th>\n",
       "      <th>AFFX-ThrX-3_at</th>\n",
       "      <th>AFFX-ThrX-5_at</th>\n",
       "      <th>AFFX-ThrX-M_at</th>\n",
       "      <th>AFFX-TrpnX-3_at</th>\n",
       "      <th>AFFX-TrpnX-5_at</th>\n",
       "      <th>AFFX-TrpnX-M_at</th>\n",
       "    </tr>\n",
       "  </thead>\n",
       "  <tbody>\n",
       "    <tr>\n",
       "      <th>0</th>\n",
       "      <td>84</td>\n",
       "      <td>basal</td>\n",
       "      <td>9.850040</td>\n",
       "      <td>8.097927</td>\n",
       "      <td>6.424728</td>\n",
       "      <td>7.353027</td>\n",
       "      <td>3.029122</td>\n",
       "      <td>6.880079</td>\n",
       "      <td>4.963740</td>\n",
       "      <td>4.408328</td>\n",
       "      <td>...</td>\n",
       "      <td>12.229711</td>\n",
       "      <td>11.852955</td>\n",
       "      <td>13.658701</td>\n",
       "      <td>13.477698</td>\n",
       "      <td>6.265781</td>\n",
       "      <td>5.016196</td>\n",
       "      <td>4.901594</td>\n",
       "      <td>2.966657</td>\n",
       "      <td>3.508495</td>\n",
       "      <td>3.301999</td>\n",
       "    </tr>\n",
       "    <tr>\n",
       "      <th>1</th>\n",
       "      <td>85</td>\n",
       "      <td>basal</td>\n",
       "      <td>9.861357</td>\n",
       "      <td>8.212222</td>\n",
       "      <td>7.062593</td>\n",
       "      <td>7.685578</td>\n",
       "      <td>3.149468</td>\n",
       "      <td>7.542283</td>\n",
       "      <td>5.129607</td>\n",
       "      <td>4.584418</td>\n",
       "      <td>...</td>\n",
       "      <td>12.178531</td>\n",
       "      <td>11.809408</td>\n",
       "      <td>13.750086</td>\n",
       "      <td>13.470146</td>\n",
       "      <td>6.771853</td>\n",
       "      <td>5.291005</td>\n",
       "      <td>5.405839</td>\n",
       "      <td>2.934763</td>\n",
       "      <td>3.687666</td>\n",
       "      <td>3.064299</td>\n",
       "    </tr>\n",
       "    <tr>\n",
       "      <th>2</th>\n",
       "      <td>87</td>\n",
       "      <td>basal</td>\n",
       "      <td>10.103478</td>\n",
       "      <td>8.936137</td>\n",
       "      <td>5.735970</td>\n",
       "      <td>7.687822</td>\n",
       "      <td>3.125931</td>\n",
       "      <td>6.562369</td>\n",
       "      <td>4.813449</td>\n",
       "      <td>4.425195</td>\n",
       "      <td>...</td>\n",
       "      <td>12.125108</td>\n",
       "      <td>11.725766</td>\n",
       "      <td>13.621732</td>\n",
       "      <td>13.295080</td>\n",
       "      <td>6.346952</td>\n",
       "      <td>5.171403</td>\n",
       "      <td>5.184286</td>\n",
       "      <td>2.847684</td>\n",
       "      <td>3.550597</td>\n",
       "      <td>3.158535</td>\n",
       "    </tr>\n",
       "    <tr>\n",
       "      <th>3</th>\n",
       "      <td>90</td>\n",
       "      <td>basal</td>\n",
       "      <td>9.756875</td>\n",
       "      <td>7.357148</td>\n",
       "      <td>6.479183</td>\n",
       "      <td>6.986624</td>\n",
       "      <td>3.181638</td>\n",
       "      <td>7.802344</td>\n",
       "      <td>5.490982</td>\n",
       "      <td>4.567956</td>\n",
       "      <td>...</td>\n",
       "      <td>12.111235</td>\n",
       "      <td>11.719215</td>\n",
       "      <td>13.743108</td>\n",
       "      <td>13.508861</td>\n",
       "      <td>6.610284</td>\n",
       "      <td>5.193356</td>\n",
       "      <td>5.086569</td>\n",
       "      <td>3.031602</td>\n",
       "      <td>3.524981</td>\n",
       "      <td>3.272665</td>\n",
       "    </tr>\n",
       "    <tr>\n",
       "      <th>4</th>\n",
       "      <td>91</td>\n",
       "      <td>basal</td>\n",
       "      <td>9.408330</td>\n",
       "      <td>7.746404</td>\n",
       "      <td>6.693980</td>\n",
       "      <td>7.333426</td>\n",
       "      <td>3.169923</td>\n",
       "      <td>7.610457</td>\n",
       "      <td>5.372469</td>\n",
       "      <td>4.424426</td>\n",
       "      <td>...</td>\n",
       "      <td>12.173642</td>\n",
       "      <td>11.861296</td>\n",
       "      <td>13.797774</td>\n",
       "      <td>13.542206</td>\n",
       "      <td>6.414354</td>\n",
       "      <td>5.040202</td>\n",
       "      <td>5.235318</td>\n",
       "      <td>2.956232</td>\n",
       "      <td>3.445501</td>\n",
       "      <td>3.193947</td>\n",
       "    </tr>\n",
       "  </tbody>\n",
       "</table>\n",
       "<p>5 rows × 54677 columns</p>\n",
       "</div>"
      ],
      "text/plain": [
       "   samples   type  1007_s_at   1053_at    117_at    121_at  1255_g_at  \\\n",
       "0       84  basal   9.850040  8.097927  6.424728  7.353027   3.029122   \n",
       "1       85  basal   9.861357  8.212222  7.062593  7.685578   3.149468   \n",
       "2       87  basal  10.103478  8.936137  5.735970  7.687822   3.125931   \n",
       "3       90  basal   9.756875  7.357148  6.479183  6.986624   3.181638   \n",
       "4       91  basal   9.408330  7.746404  6.693980  7.333426   3.169923   \n",
       "\n",
       "    1294_at   1316_at   1320_at  ...  AFFX-r2-Ec-bioD-3_at  \\\n",
       "0  6.880079  4.963740  4.408328  ...             12.229711   \n",
       "1  7.542283  5.129607  4.584418  ...             12.178531   \n",
       "2  6.562369  4.813449  4.425195  ...             12.125108   \n",
       "3  7.802344  5.490982  4.567956  ...             12.111235   \n",
       "4  7.610457  5.372469  4.424426  ...             12.173642   \n",
       "\n",
       "   AFFX-r2-Ec-bioD-5_at  AFFX-r2-P1-cre-3_at  AFFX-r2-P1-cre-5_at  \\\n",
       "0             11.852955            13.658701            13.477698   \n",
       "1             11.809408            13.750086            13.470146   \n",
       "2             11.725766            13.621732            13.295080   \n",
       "3             11.719215            13.743108            13.508861   \n",
       "4             11.861296            13.797774            13.542206   \n",
       "\n",
       "   AFFX-ThrX-3_at  AFFX-ThrX-5_at  AFFX-ThrX-M_at  AFFX-TrpnX-3_at  \\\n",
       "0        6.265781        5.016196        4.901594         2.966657   \n",
       "1        6.771853        5.291005        5.405839         2.934763   \n",
       "2        6.346952        5.171403        5.184286         2.847684   \n",
       "3        6.610284        5.193356        5.086569         3.031602   \n",
       "4        6.414354        5.040202        5.235318         2.956232   \n",
       "\n",
       "   AFFX-TrpnX-5_at  AFFX-TrpnX-M_at  \n",
       "0         3.508495         3.301999  \n",
       "1         3.687666         3.064299  \n",
       "2         3.550597         3.158535  \n",
       "3         3.524981         3.272665  \n",
       "4         3.445501         3.193947  \n",
       "\n",
       "[5 rows x 54677 columns]"
      ]
     },
     "execution_count": 5,
     "metadata": {},
     "output_type": "execute_result"
    }
   ],
   "source": [
    "df.head(5)"
   ]
  },
  {
   "cell_type": "code",
   "execution_count": 6,
   "id": "3c78c152",
   "metadata": {},
   "outputs": [
    {
     "data": {
      "text/plain": [
       "samples            151\n",
       "type               151\n",
       "1007_s_at          151\n",
       "1053_at            151\n",
       "117_at             151\n",
       "                  ... \n",
       "AFFX-ThrX-5_at     151\n",
       "AFFX-ThrX-M_at     151\n",
       "AFFX-TrpnX-3_at    151\n",
       "AFFX-TrpnX-5_at    151\n",
       "AFFX-TrpnX-M_at    151\n",
       "Length: 54677, dtype: int64"
      ]
     },
     "execution_count": 6,
     "metadata": {},
     "output_type": "execute_result"
    }
   ],
   "source": [
    "df.notnull().count()"
   ]
  },
  {
   "cell_type": "code",
   "execution_count": 7,
   "id": "bfa4a9cd",
   "metadata": {},
   "outputs": [
    {
     "data": {
      "text/plain": [
       "(151, 151)"
      ]
     },
     "execution_count": 7,
     "metadata": {},
     "output_type": "execute_result"
    }
   ],
   "source": [
    "df.notnull().count().min(), df.notnull().count().max()"
   ]
  },
  {
   "cell_type": "code",
   "execution_count": 23,
   "id": "dd81b830",
   "metadata": {},
   "outputs": [],
   "source": [
    "genes_matrix = df.drop([\"samples\", \"type\"], axis=1).values\n",
    "genes_names = df.columns[2:]\n",
    "\n",
    "\n",
    "type_encoder = { t: i for i, t in enumerate(color_map.keys())}\n",
    "\n",
    "labels = [type_encoder[t] for t in cancer_labels]\n",
    "\n",
    "cancer_labels = df[\"type\"].values\n",
    "\n",
    "\n",
    "color_map = {\n",
    "    \"normal\": \"#2ca02c\",  # Olive green, good for 'normal' to symbolize health\n",
    "    \"HER\": \"#1f77b4\",    # Mutated blue, a stark contrast for highlighting HER\n",
    "    \"luminal_B\": \"#9467bd\",  # Soft purple, distinct yet clearly differentiable\n",
    "    \"luminal_A\": \"#8c564b\",  # Rosy brown, subtle and distinct from luminal_B\n",
    "    \"cell_line\": \"#ff7f0e\",  # Bright orange, stands out for 'cell line'\n",
    "    \"basal\": \"#d62728\"     # Strong red, impactful for highlighting 'basal'\n",
    "}\n"
   ]
  },
  {
   "cell_type": "code",
   "execution_count": 24,
   "id": "619ddf6f",
   "metadata": {},
   "outputs": [
    {
     "data": {
      "image/png": "[encoded data removed]",
      "text/plain": [
       "<Figure size 720x576 with 1 Axes>"
      ]
     },
     "metadata": {
      "needs_background": "light"
     },
     "output_type": "display_data"
    }
   ],
   "source": [
    "plt.figure(figsize=(10, 8))\n",
    "\n",
    "value_counts = df[\"type\"].value_counts().reset_index()\n",
    "value_counts.columns = ['type', 'count']\n",
    "\n",
    "\n",
    "ax = sns.barplot(x='type', y='count', data=value_counts, palette=color_map, hue=\"type\", alpha=0.7)\n",
    "ax.set_title('Counts of types of cancer', fontsize=16)\n",
    "ax.set_xlabel('Type', fontsize=14)\n",
    "ax.set_ylabel('Count', fontsize=14)\n",
    "ax.tick_params(labelsize=12)\n",
    "plt.xticks(rotation=0)\n",
    "\n",
    "for p in ax.patches:\n",
    "    ax.annotate(f'{int(p.get_height())}', (p.get_x() + p.get_width() / 2., p.get_height()),\n",
    "                ha = 'center', va = 'center', xytext = (0, 10), textcoords = 'offset points', fontsize=12)\n",
    "\n",
    "\n",
    "plt.show()\n"
   ]
  },
  {
   "cell_type": "code",
   "execution_count": 10,
   "id": "47c7be4f",
   "metadata": {},
   "outputs": [
    {
     "name": "stdout",
     "output_type": "stream",
     "text": [
      "Min value of gene expression is  2.17109972663613\n",
      "Max value of gene expression is  14.9701002149474\n",
      "Total variance in gene matrix is  4.526885278734545\n"
     ]
    }
   ],
   "source": [
    "print(\"Min value of gene expression is \", genes_matrix.min())\n",
    "print(\"Max value of gene expression is \", genes_matrix.max())\n",
    "print(\"Total variance in gene matrix is \", genes_matrix.var())"
   ]
  },
  {
   "cell_type": "markdown",
   "id": "9e7e408e",
   "metadata": {},
   "source": [
    "### TODO\n",
    " - plot components vs explained var\n",
    " - try different ways of visualizing data: pca, tsne with diff params, mds\n",
    " - use kmeans/hierarchical clustering to select features\n",
    " - try logistic regression / SVM / something supervised\n",
    " - use SelectKbest / other feature selection techniques to select genes\n",
    " - try to extract what genes correspond to what kind of cancer\n",
    " \n",
    " **NOTES**\n",
    " - kruskal-Wallis test to remove genes that do not vary among classes\n",
    " - MinMaxScaler\n",
    " - MI (Mutual Information)\n",
    " "
   ]
  },
  {
   "cell_type": "markdown",
   "id": "80a6c696",
   "metadata": {},
   "source": [
    "## PCA\n"
   ]
  },
  {
   "cell_type": "code",
   "execution_count": 11,
   "id": "643280b3",
   "metadata": {},
   "outputs": [
    {
     "name": "stdout",
     "output_type": "stream",
     "text": [
      "CPU times: user 12.3 s, sys: 6.92 s, total: 19.2 s\n",
      "Wall time: 5.92 s\n"
     ]
    },
    {
     "data": {
      "text/html": [
       "<style>#sk-container-id-1 {color: black;}#sk-container-id-1 pre{padding: 0;}#sk-container-id-1 div.sk-toggleable {background-color: white;}#sk-container-id-1 label.sk-toggleable__label {cursor: pointer;display: block;width: 100%;margin-bottom: 0;padding: 0.3em;box-sizing: border-box;text-align: center;}#sk-container-id-1 label.sk-toggleable__label-arrow:before {content: \"▸\";float: left;margin-right: 0.25em;color: #696969;}#sk-container-id-1 label.sk-toggleable__label-arrow:hover:before {color: black;}#sk-container-id-1 div.sk-estimator:hover label.sk-toggleable__label-arrow:before {color: black;}#sk-container-id-1 div.sk-toggleable__content {max-height: 0;max-width: 0;overflow: hidden;text-align: left;background-color: #f0f8ff;}#sk-container-id-1 div.sk-toggleable__content pre {margin: 0.2em;color: black;border-radius: 0.25em;background-color: #f0f8ff;}#sk-container-id-1 input.sk-toggleable__control:checked~div.sk-toggleable__content {max-height: 200px;max-width: 100%;overflow: auto;}#sk-container-id-1 input.sk-toggleable__control:checked~label.sk-toggleable__label-arrow:before {content: \"▾\";}#sk-container-id-1 div.sk-estimator input.sk-toggleable__control:checked~label.sk-toggleable__label {background-color: #d4ebff;}#sk-container-id-1 div.sk-label input.sk-toggleable__control:checked~label.sk-toggleable__label {background-color: #d4ebff;}#sk-container-id-1 input.sk-hidden--visually {border: 0;clip: rect(1px 1px 1px 1px);clip: rect(1px, 1px, 1px, 1px);height: 1px;margin: -1px;overflow: hidden;padding: 0;position: absolute;width: 1px;}#sk-container-id-1 div.sk-estimator {font-family: monospace;background-color: #f0f8ff;border: 1px dotted black;border-radius: 0.25em;box-sizing: border-box;margin-bottom: 0.5em;}#sk-container-id-1 div.sk-estimator:hover {background-color: #d4ebff;}#sk-container-id-1 div.sk-parallel-item::after {content: \"\";width: 100%;border-bottom: 1px solid gray;flex-grow: 1;}#sk-container-id-1 div.sk-label:hover label.sk-toggleable__label {background-color: #d4ebff;}#sk-container-id-1 div.sk-serial::before {content: \"\";position: absolute;border-left: 1px solid gray;box-sizing: border-box;top: 0;bottom: 0;left: 50%;z-index: 0;}#sk-container-id-1 div.sk-serial {display: flex;flex-direction: column;align-items: center;background-color: white;padding-right: 0.2em;padding-left: 0.2em;position: relative;}#sk-container-id-1 div.sk-item {position: relative;z-index: 1;}#sk-container-id-1 div.sk-parallel {display: flex;align-items: stretch;justify-content: center;background-color: white;position: relative;}#sk-container-id-1 div.sk-item::before, #sk-container-id-1 div.sk-parallel-item::before {content: \"\";position: absolute;border-left: 1px solid gray;box-sizing: border-box;top: 0;bottom: 0;left: 50%;z-index: -1;}#sk-container-id-1 div.sk-parallel-item {display: flex;flex-direction: column;z-index: 1;position: relative;background-color: white;}#sk-container-id-1 div.sk-parallel-item:first-child::after {align-self: flex-end;width: 50%;}#sk-container-id-1 div.sk-parallel-item:last-child::after {align-self: flex-start;width: 50%;}#sk-container-id-1 div.sk-parallel-item:only-child::after {width: 0;}#sk-container-id-1 div.sk-dashed-wrapped {border: 1px dashed gray;margin: 0 0.4em 0.5em 0.4em;box-sizing: border-box;padding-bottom: 0.4em;background-color: white;}#sk-container-id-1 div.sk-label label {font-family: monospace;font-weight: bold;display: inline-block;line-height: 1.2em;}#sk-container-id-1 div.sk-label-container {text-align: center;}#sk-container-id-1 div.sk-container {/* jupyter's `normalize.less` sets `[hidden] { display: none; }` but bootstrap.min.css set `[hidden] { display: none !important; }` so we also need the `!important` here to be able to override the default hidden behavior on the sphinx rendered scikit-learn.org. See: https://github.com/scikit-learn/scikit-learn/issues/21755 */display: inline-block !important;position: relative;}#sk-container-id-1 div.sk-text-repr-fallback {display: none;}</style><div id=\"sk-container-id-1\" class=\"sk-top-container\"><div class=\"sk-text-repr-fallback\"><pre>PCA(n_components=100)</pre><b>In a Jupyter environment, please rerun this cell to show the HTML representation or trust the notebook. <br />On GitHub, the HTML representation is unable to render, please try loading this page with nbviewer.org.</b></div><div class=\"sk-container\" hidden><div class=\"sk-item\"><div class=\"sk-estimator sk-toggleable\"><input class=\"sk-toggleable__control sk-hidden--visually\" id=\"sk-estimator-id-1\" type=\"checkbox\" checked><label for=\"sk-estimator-id-1\" class=\"sk-toggleable__label sk-toggleable__label-arrow\">PCA</label><div class=\"sk-toggleable__content\"><pre>PCA(n_components=100)</pre></div></div></div></div></div>"
      ],
      "text/plain": [
       "PCA(n_components=100)"
      ]
     },
     "execution_count": 11,
     "metadata": {},
     "output_type": "execute_result"
    }
   ],
   "source": [
    "%%time\n",
    "\n",
    "#using PCA to see how many companents we need to achieve good explained variance\n",
    "\n",
    "pca = PCA(n_components=100)\n",
    "pca.fit(genes_matrix)"
   ]
  },
  {
   "cell_type": "code",
   "execution_count": 12,
   "id": "b55a96d2",
   "metadata": {},
   "outputs": [
    {
     "name": "stdout",
     "output_type": "stream",
     "text": [
      "CPU times: user 395 ms, sys: 62.8 ms, total: 458 ms\n",
      "Wall time: 182 ms\n"
     ]
    }
   ],
   "source": [
    "%%time \n",
    "\n",
    "genes_matrix_pca = pca.transform(genes_matrix)"
   ]
  },
  {
   "cell_type": "code",
   "execution_count": 13,
   "id": "049e5159",
   "metadata": {},
   "outputs": [
    {
     "data": {
      "text/plain": [
       "(151, 100)"
      ]
     },
     "execution_count": 13,
     "metadata": {},
     "output_type": "execute_result"
    }
   ],
   "source": [
    "genes_matrix_pca.shape"
   ]
  },
  {
   "cell_type": "code",
   "execution_count": 14,
   "id": "6d0dba49",
   "metadata": {},
   "outputs": [
    {
     "data": {
      "image/png": "[encoded data removed]",
      "text/plain": [
       "<Figure size 936x576 with 1 Axes>"
      ]
     },
     "metadata": {
      "needs_background": "light"
     },
     "output_type": "display_data"
    }
   ],
   "source": [
    "plt.figure(figsize=(13, 8))\n",
    "sns.lineplot(x=np.arange(1, pca.n_components_ + 1, 1), y=np.cumsum(pca.explained_variance_ratio_), marker=\"o\")\n",
    "plt.title('PCA Explained Variance', fontsize=13)\n",
    "plt.xlabel('Number of Components', fontsize=12)\n",
    "plt.ylabel('Variance Explained', fontsize=12)\n",
    "plt.xticks(np.arange(0, 105, 5))\n",
    "plt.yticks(np.arange(0.1, 1, 0.05))\n",
    "plt.show()"
   ]
  },
  {
   "cell_type": "code",
   "execution_count": 15,
   "id": "cbf15957",
   "metadata": {},
   "outputs": [
    {
     "name": "stdout",
     "output_type": "stream",
     "text": [
      "ratio of VAR explained by  first 100 PCs =  0.9183908461624061\n"
     ]
    }
   ],
   "source": [
    "print(\"ratio of VAR explained by  first 100 PCs = \", np.sum(pca.explained_variance_ratio_))"
   ]
  },
  {
   "cell_type": "code",
   "execution_count": 16,
   "id": "edb1fe59",
   "metadata": {},
   "outputs": [
    {
     "data": {
      "image/png": "[encoded data removed]",
      "text/plain": [
       "<Figure size 864x576 with 1 Axes>"
      ]
     },
     "metadata": {
      "needs_background": "light"
     },
     "output_type": "display_data"
    }
   ],
   "source": [
    "### let's try to visualize first 2 components from pca\n",
    "\n",
    "pca_df = pd.DataFrame(genes_matrix_pca[:, :2], columns=['PCA1', 'PCA2'])\n",
    "pca_df['Label'] = cancer_labels\n",
    "\n",
    "plt.figure(figsize=(12, 8))\n",
    "sns.scatterplot(data=pca_df, x='PCA1', y='PCA2', hue='Label', palette=color_map, s=125)\n",
    "\n",
    "plt.title('PCA  of Gene Expression', fontsize=13)\n",
    "plt.xlabel('Principal Component 1', fontsize=12)\n",
    "plt.ylabel('Principal Component 2', fontsize=12)\n",
    "plt.legend(title='Cancer Type')\n",
    "plt.show()"
   ]
  },
  {
   "cell_type": "markdown",
   "id": "24e77922",
   "metadata": {},
   "source": [
    "## T-SNE visualization"
   ]
  },
  {
   "cell_type": "code",
   "execution_count": 17,
   "id": "f5bf9af2",
   "metadata": {},
   "outputs": [],
   "source": [
    "\n",
    "tsne = TSNE(n_components=2,\n",
    "            init=\"pca\",\n",
    "            learning_rate=100,\n",
    "            random_state=1,\n",
    "            n_jobs=-1,\n",
    "            perplexity=12,\n",
    "            early_exaggeration=4\n",
    "            )\n",
    "\n",
    "\n",
    "genes_matrix_tsne = tsne.fit_transform(genes_matrix)"
   ]
  },
  {
   "cell_type": "code",
   "execution_count": 18,
   "id": "89bcac33",
   "metadata": {},
   "outputs": [
    {
     "data": {
      "image/png": "[encoded data removed]",
      "text/plain": [
       "<Figure size 864x576 with 1 Axes>"
      ]
     },
     "metadata": {
      "needs_background": "light"
     },
     "output_type": "display_data"
    }
   ],
   "source": [
    "tsne_df = pd.DataFrame(genes_matrix_tsne[:, :2], columns=['PCA1', 'PCA2'])\n",
    "tsne_df['Label'] = cancer_labels\n",
    "\n",
    "plt.figure(figsize=(12, 8))\n",
    "sns.scatterplot(data=tsne_df, x='PCA1', y='PCA2', hue='Label', palette=color_map, s=125)\n",
    "\n",
    "plt.title('TSNE visualization', fontsize=13)\n",
    "plt.xlabel('tsne component 1', fontsize=12)\n",
    "plt.ylabel('tsne component 2', fontsize=12)\n",
    "plt.legend(title='Cancer Type')\n",
    "plt.show()"
   ]
  },
  {
   "cell_type": "markdown",
   "id": "7233ec41",
   "metadata": {},
   "source": [
    "TSNE separates classes much better"
   ]
  },
  {
   "cell_type": "markdown",
   "id": "833b184e",
   "metadata": {},
   "source": [
    "## Gene selection"
   ]
  },
  {
   "cell_type": "markdown",
   "id": "b3d177a0",
   "metadata": {},
   "source": [
    "### Mutual Information"
   ]
  },
  {
   "cell_type": "code",
   "execution_count": 17,
   "id": "116d64a6",
   "metadata": {},
   "outputs": [],
   "source": [
    "%%time\n",
    "\n",
    "\n",
    "\n",
    "\n",
    "mi_scores = mutual_info_classif(genes_matrix, labels, random_state=1)"
   ]
  },
  {
   "cell_type": "code",
   "execution_count": 185,
   "id": "b3786907",
   "metadata": {},
   "outputs": [
    {
     "data": {
      "text/html": [
       "<div>\n",
       "<style scoped>\n",
       "    .dataframe tbody tr th:only-of-type {\n",
       "        vertical-align: middle;\n",
       "    }\n",
       "\n",
       "    .dataframe tbody tr th {\n",
       "        vertical-align: top;\n",
       "    }\n",
       "\n",
       "    .dataframe thead th {\n",
       "        text-align: right;\n",
       "    }\n",
       "</style>\n",
       "<table border=\"1\" class=\"dataframe\">\n",
       "  <thead>\n",
       "    <tr style=\"text-align: right;\">\n",
       "      <th></th>\n",
       "      <th>gene</th>\n",
       "      <th>MI</th>\n",
       "    </tr>\n",
       "  </thead>\n",
       "  <tbody>\n",
       "    <tr>\n",
       "      <th>20845</th>\n",
       "      <td>211519_s_at</td>\n",
       "      <td>0.917965</td>\n",
       "    </tr>\n",
       "    <tr>\n",
       "      <th>19457</th>\n",
       "      <td>210052_s_at</td>\n",
       "      <td>0.866330</td>\n",
       "    </tr>\n",
       "    <tr>\n",
       "      <th>11688</th>\n",
       "      <td>202240_at</td>\n",
       "      <td>0.845233</td>\n",
       "    </tr>\n",
       "    <tr>\n",
       "      <th>27827</th>\n",
       "      <td>218542_at</td>\n",
       "      <td>0.845002</td>\n",
       "    </tr>\n",
       "    <tr>\n",
       "      <th>12227</th>\n",
       "      <td>202779_s_at</td>\n",
       "      <td>0.819782</td>\n",
       "    </tr>\n",
       "    <tr>\n",
       "      <th>32506</th>\n",
       "      <td>223229_at</td>\n",
       "      <td>0.806840</td>\n",
       "    </tr>\n",
       "    <tr>\n",
       "      <th>13609</th>\n",
       "      <td>204162_at</td>\n",
       "      <td>0.806807</td>\n",
       "    </tr>\n",
       "    <tr>\n",
       "      <th>19051</th>\n",
       "      <td>209642_at</td>\n",
       "      <td>0.803727</td>\n",
       "    </tr>\n",
       "    <tr>\n",
       "      <th>34448</th>\n",
       "      <td>225191_at</td>\n",
       "      <td>0.802138</td>\n",
       "    </tr>\n",
       "    <tr>\n",
       "      <th>18877</th>\n",
       "      <td>209464_at</td>\n",
       "      <td>0.792221</td>\n",
       "    </tr>\n",
       "  </tbody>\n",
       "</table>\n",
       "</div>"
      ],
      "text/plain": [
       "              gene        MI\n",
       "20845  211519_s_at  0.917965\n",
       "19457  210052_s_at  0.866330\n",
       "11688    202240_at  0.845233\n",
       "27827    218542_at  0.845002\n",
       "12227  202779_s_at  0.819782\n",
       "32506    223229_at  0.806840\n",
       "13609    204162_at  0.806807\n",
       "19051    209642_at  0.803727\n",
       "34448    225191_at  0.802138\n",
       "18877    209464_at  0.792221"
      ]
     },
     "execution_count": 185,
     "metadata": {},
     "output_type": "execute_result"
    }
   ],
   "source": [
    "\n",
    "mi_df = pd.DataFrame({\"gene\" : genes_names, \n",
    "                     \"MI\" : mi_scores})\n",
    "\n",
    "mi_df = mi_df.sort_values(by=\"MI\", ascending=False)\n",
    "\n",
    "mi_df.to_csv(\"genes_MI.csv\")\n",
    "\n",
    "\n",
    "mi_df.head(10)"
   ]
  },
  {
   "cell_type": "code",
   "execution_count": 20,
   "id": "66ace364",
   "metadata": {},
   "outputs": [
    {
     "data": {
      "text/plain": [
       "0.100    0.016808\n",
       "0.200    0.051215\n",
       "0.300    0.078727\n",
       "0.400    0.104878\n",
       "0.500    0.132005\n",
       "0.600    0.161793\n",
       "0.700    0.197437\n",
       "0.800    0.245639\n",
       "0.900    0.321369\n",
       "0.950    0.392730\n",
       "0.990    0.539691\n",
       "0.999    0.704228\n",
       "Name: MI, dtype: float64"
      ]
     },
     "execution_count": 20,
     "metadata": {},
     "output_type": "execute_result"
    }
   ],
   "source": [
    "mi_df[\"MI\"].quantile([0.1, 0.2, 0.3, 0.4, 0.5, 0.6, 0.7, 0.8, 0.9, 0.95, 0.99, 0.999])"
   ]
  },
  {
   "cell_type": "code",
   "execution_count": 180,
   "id": "b9b2f6af",
   "metadata": {},
   "outputs": [],
   "source": [
    "###a lot of features have very low MI\n"
   ]
  },
  {
   "cell_type": "markdown",
   "id": "eb8e9889",
   "metadata": {},
   "source": [
    "### Chi-Squared statistic"
   ]
  },
  {
   "cell_type": "code",
   "execution_count": 25,
   "id": "f924dbbd",
   "metadata": {},
   "outputs": [
    {
     "name": "stdout",
     "output_type": "stream",
     "text": [
      "CPU times: user 560 ms, sys: 296 ms, total: 855 ms\n",
      "Wall time: 539 ms\n"
     ]
    },
    {
     "data": {
      "text/html": [
       "<div>\n",
       "<style scoped>\n",
       "    .dataframe tbody tr th:only-of-type {\n",
       "        vertical-align: middle;\n",
       "    }\n",
       "\n",
       "    .dataframe tbody tr th {\n",
       "        vertical-align: top;\n",
       "    }\n",
       "\n",
       "    .dataframe thead th {\n",
       "        text-align: right;\n",
       "    }\n",
       "</style>\n",
       "<table border=\"1\" class=\"dataframe\">\n",
       "  <thead>\n",
       "    <tr style=\"text-align: right;\">\n",
       "      <th></th>\n",
       "      <th>gene</th>\n",
       "      <th>CHI2</th>\n",
       "      <th>p_value</th>\n",
       "    </tr>\n",
       "  </thead>\n",
       "  <tbody>\n",
       "    <tr>\n",
       "      <th>37495</th>\n",
       "      <td>228241_at</td>\n",
       "      <td>214.481735</td>\n",
       "      <td>2.258643e-44</td>\n",
       "    </tr>\n",
       "    <tr>\n",
       "      <th>46588</th>\n",
       "      <td>237339_at</td>\n",
       "      <td>146.800900</td>\n",
       "      <td>6.402447e-30</td>\n",
       "    </tr>\n",
       "    <tr>\n",
       "      <th>15824</th>\n",
       "      <td>206378_at</td>\n",
       "      <td>145.705457</td>\n",
       "      <td>1.094978e-29</td>\n",
       "    </tr>\n",
       "    <tr>\n",
       "      <th>14672</th>\n",
       "      <td>205225_at</td>\n",
       "      <td>135.837039</td>\n",
       "      <td>1.371714e-27</td>\n",
       "    </tr>\n",
       "    <tr>\n",
       "      <th>18587</th>\n",
       "      <td>209173_at</td>\n",
       "      <td>128.352468</td>\n",
       "      <td>5.322940e-26</td>\n",
       "    </tr>\n",
       "    <tr>\n",
       "      <th>14456</th>\n",
       "      <td>205009_at</td>\n",
       "      <td>122.070630</td>\n",
       "      <td>1.143046e-24</td>\n",
       "    </tr>\n",
       "    <tr>\n",
       "      <th>37808</th>\n",
       "      <td>228554_at</td>\n",
       "      <td>118.543040</td>\n",
       "      <td>6.386788e-24</td>\n",
       "    </tr>\n",
       "    <tr>\n",
       "      <th>14491</th>\n",
       "      <td>205044_at</td>\n",
       "      <td>118.189847</td>\n",
       "      <td>7.586930e-24</td>\n",
       "    </tr>\n",
       "    <tr>\n",
       "      <th>33137</th>\n",
       "      <td>223861_at</td>\n",
       "      <td>116.467687</td>\n",
       "      <td>1.756418e-23</td>\n",
       "    </tr>\n",
       "    <tr>\n",
       "      <th>46335</th>\n",
       "      <td>237086_at</td>\n",
       "      <td>111.836230</td>\n",
       "      <td>1.676334e-22</td>\n",
       "    </tr>\n",
       "  </tbody>\n",
       "</table>\n",
       "</div>"
      ],
      "text/plain": [
       "            gene        CHI2       p_value\n",
       "37495  228241_at  214.481735  2.258643e-44\n",
       "46588  237339_at  146.800900  6.402447e-30\n",
       "15824  206378_at  145.705457  1.094978e-29\n",
       "14672  205225_at  135.837039  1.371714e-27\n",
       "18587  209173_at  128.352468  5.322940e-26\n",
       "14456  205009_at  122.070630  1.143046e-24\n",
       "37808  228554_at  118.543040  6.386788e-24\n",
       "14491  205044_at  118.189847  7.586930e-24\n",
       "33137  223861_at  116.467687  1.756418e-23\n",
       "46335  237086_at  111.836230  1.676334e-22"
      ]
     },
     "execution_count": 25,
     "metadata": {},
     "output_type": "execute_result"
    }
   ],
   "source": [
    "%%time \n",
    "\n",
    "chi2_scores, chi2_pvals = chi2(genes_matrix, labels)\n",
    "\n",
    "chi2_df = pd.DataFrame({\"gene\" : genes_names, \n",
    "                     \"CHI2\" : chi2_scores,\n",
    "                      \"p_value\" : chi2_pvals})\n",
    "\n",
    "chi2_df = chi2_df.sort_values(by=\"CHI2\", ascending=False)\n",
    "\n",
    "chi2_df.to_csv(\"genes_chi2.csv\")\n",
    "\n",
    "\n",
    "chi2_df.head(10)"
   ]
  },
  {
   "cell_type": "markdown",
   "id": "d6b2d5ed",
   "metadata": {},
   "source": [
    "#### TODO:\n",
    "- drop all features that have both lower CHI2 and MI"
   ]
  },
  {
   "cell_type": "markdown",
   "id": "dd99bd35",
   "metadata": {},
   "source": [
    "## Filtering genes"
   ]
  },
  {
   "cell_type": "code",
   "execution_count": 32,
   "id": "2607c927",
   "metadata": {},
   "outputs": [],
   "source": [
    "mi_df = pd.read_csv(\"genes_MI.csv\").drop(\"Unnamed: 0\",axis=1)"
   ]
  },
  {
   "cell_type": "code",
   "execution_count": 31,
   "id": "7d7cebce",
   "metadata": {},
   "outputs": [
    {
     "data": {
      "text/html": [
       "<div>\n",
       "<style scoped>\n",
       "    .dataframe tbody tr th:only-of-type {\n",
       "        vertical-align: middle;\n",
       "    }\n",
       "\n",
       "    .dataframe tbody tr th {\n",
       "        vertical-align: top;\n",
       "    }\n",
       "\n",
       "    .dataframe thead th {\n",
       "        text-align: right;\n",
       "    }\n",
       "</style>\n",
       "<table border=\"1\" class=\"dataframe\">\n",
       "  <thead>\n",
       "    <tr style=\"text-align: right;\">\n",
       "      <th></th>\n",
       "      <th>gene</th>\n",
       "      <th>MI</th>\n",
       "    </tr>\n",
       "  </thead>\n",
       "  <tbody>\n",
       "    <tr>\n",
       "      <th>0</th>\n",
       "      <td>211519_s_at</td>\n",
       "      <td>0.917965</td>\n",
       "    </tr>\n",
       "    <tr>\n",
       "      <th>1</th>\n",
       "      <td>210052_s_at</td>\n",
       "      <td>0.866330</td>\n",
       "    </tr>\n",
       "    <tr>\n",
       "      <th>2</th>\n",
       "      <td>202240_at</td>\n",
       "      <td>0.845233</td>\n",
       "    </tr>\n",
       "    <tr>\n",
       "      <th>3</th>\n",
       "      <td>218542_at</td>\n",
       "      <td>0.845002</td>\n",
       "    </tr>\n",
       "    <tr>\n",
       "      <th>4</th>\n",
       "      <td>202779_s_at</td>\n",
       "      <td>0.819782</td>\n",
       "    </tr>\n",
       "    <tr>\n",
       "      <th>...</th>\n",
       "      <td>...</td>\n",
       "      <td>...</td>\n",
       "    </tr>\n",
       "    <tr>\n",
       "      <th>853</th>\n",
       "      <td>227020_at</td>\n",
       "      <td>0.500298</td>\n",
       "    </tr>\n",
       "    <tr>\n",
       "      <th>854</th>\n",
       "      <td>220036_s_at</td>\n",
       "      <td>0.500290</td>\n",
       "    </tr>\n",
       "    <tr>\n",
       "      <th>855</th>\n",
       "      <td>1555943_at</td>\n",
       "      <td>0.500095</td>\n",
       "    </tr>\n",
       "    <tr>\n",
       "      <th>856</th>\n",
       "      <td>235847_at</td>\n",
       "      <td>0.500090</td>\n",
       "    </tr>\n",
       "    <tr>\n",
       "      <th>857</th>\n",
       "      <td>218719_s_at</td>\n",
       "      <td>0.500008</td>\n",
       "    </tr>\n",
       "  </tbody>\n",
       "</table>\n",
       "<p>858 rows × 2 columns</p>\n",
       "</div>"
      ],
      "text/plain": [
       "            gene        MI\n",
       "0    211519_s_at  0.917965\n",
       "1    210052_s_at  0.866330\n",
       "2      202240_at  0.845233\n",
       "3      218542_at  0.845002\n",
       "4    202779_s_at  0.819782\n",
       "..           ...       ...\n",
       "853    227020_at  0.500298\n",
       "854  220036_s_at  0.500290\n",
       "855   1555943_at  0.500095\n",
       "856    235847_at  0.500090\n",
       "857  218719_s_at  0.500008\n",
       "\n",
       "[858 rows x 2 columns]"
      ]
     },
     "execution_count": 31,
     "metadata": {},
     "output_type": "execute_result"
    }
   ],
   "source": [
    "#### selecting only features that have Mutual Information  >= 0.5\n",
    "\n",
    "mi_selected_genes = mi_df[mi_df[\"MI\"] >= 0.5]\n",
    "\n",
    "mi_selected_genes"
   ]
  },
  {
   "cell_type": "code",
   "execution_count": 33,
   "id": "721b1332",
   "metadata": {},
   "outputs": [
    {
     "data": {
      "text/html": [
       "<div>\n",
       "<style scoped>\n",
       "    .dataframe tbody tr th:only-of-type {\n",
       "        vertical-align: middle;\n",
       "    }\n",
       "\n",
       "    .dataframe tbody tr th {\n",
       "        vertical-align: top;\n",
       "    }\n",
       "\n",
       "    .dataframe thead th {\n",
       "        text-align: right;\n",
       "    }\n",
       "</style>\n",
       "<table border=\"1\" class=\"dataframe\">\n",
       "  <thead>\n",
       "    <tr style=\"text-align: right;\">\n",
       "      <th></th>\n",
       "      <th>gene</th>\n",
       "      <th>CHI2</th>\n",
       "      <th>p_value</th>\n",
       "    </tr>\n",
       "  </thead>\n",
       "  <tbody>\n",
       "    <tr>\n",
       "      <th>37495</th>\n",
       "      <td>228241_at</td>\n",
       "      <td>214.481735</td>\n",
       "      <td>2.258643e-44</td>\n",
       "    </tr>\n",
       "    <tr>\n",
       "      <th>46588</th>\n",
       "      <td>237339_at</td>\n",
       "      <td>146.800900</td>\n",
       "      <td>6.402447e-30</td>\n",
       "    </tr>\n",
       "    <tr>\n",
       "      <th>15824</th>\n",
       "      <td>206378_at</td>\n",
       "      <td>145.705457</td>\n",
       "      <td>1.094978e-29</td>\n",
       "    </tr>\n",
       "    <tr>\n",
       "      <th>14672</th>\n",
       "      <td>205225_at</td>\n",
       "      <td>135.837039</td>\n",
       "      <td>1.371714e-27</td>\n",
       "    </tr>\n",
       "    <tr>\n",
       "      <th>18587</th>\n",
       "      <td>209173_at</td>\n",
       "      <td>128.352468</td>\n",
       "      <td>5.322940e-26</td>\n",
       "    </tr>\n",
       "    <tr>\n",
       "      <th>...</th>\n",
       "      <td>...</td>\n",
       "      <td>...</td>\n",
       "      <td>...</td>\n",
       "    </tr>\n",
       "    <tr>\n",
       "      <th>40494</th>\n",
       "      <td>231240_at</td>\n",
       "      <td>15.142027</td>\n",
       "      <td>9.772410e-03</td>\n",
       "    </tr>\n",
       "    <tr>\n",
       "      <th>21562</th>\n",
       "      <td>212256_at</td>\n",
       "      <td>15.129888</td>\n",
       "      <td>9.821529e-03</td>\n",
       "    </tr>\n",
       "    <tr>\n",
       "      <th>34977</th>\n",
       "      <td>225720_at</td>\n",
       "      <td>15.126729</td>\n",
       "      <td>9.834351e-03</td>\n",
       "    </tr>\n",
       "    <tr>\n",
       "      <th>24597</th>\n",
       "      <td>215303_at</td>\n",
       "      <td>15.124315</td>\n",
       "      <td>9.844158e-03</td>\n",
       "    </tr>\n",
       "    <tr>\n",
       "      <th>24515</th>\n",
       "      <td>215221_at</td>\n",
       "      <td>15.086342</td>\n",
       "      <td>9.999714e-03</td>\n",
       "    </tr>\n",
       "  </tbody>\n",
       "</table>\n",
       "<p>1752 rows × 3 columns</p>\n",
       "</div>"
      ],
      "text/plain": [
       "            gene        CHI2       p_value\n",
       "37495  228241_at  214.481735  2.258643e-44\n",
       "46588  237339_at  146.800900  6.402447e-30\n",
       "15824  206378_at  145.705457  1.094978e-29\n",
       "14672  205225_at  135.837039  1.371714e-27\n",
       "18587  209173_at  128.352468  5.322940e-26\n",
       "...          ...         ...           ...\n",
       "40494  231240_at   15.142027  9.772410e-03\n",
       "21562  212256_at   15.129888  9.821529e-03\n",
       "34977  225720_at   15.126729  9.834351e-03\n",
       "24597  215303_at   15.124315  9.844158e-03\n",
       "24515  215221_at   15.086342  9.999714e-03\n",
       "\n",
       "[1752 rows x 3 columns]"
      ]
     },
     "execution_count": 33,
     "metadata": {},
     "output_type": "execute_result"
    }
   ],
   "source": [
    "### selecting genes with chi2 pvalue  < 0.01\n",
    "\n",
    "chi2_selected_genes  = chi2_df[chi2_df[\"p_value\"] < 0.01]\n",
    "chi2_selected_genes"
   ]
  },
  {
   "cell_type": "code",
   "execution_count": 39,
   "id": "5556cbc3",
   "metadata": {},
   "outputs": [
    {
     "data": {
      "text/plain": [
       "2194"
      ]
     },
     "execution_count": 39,
     "metadata": {},
     "output_type": "execute_result"
    }
   ],
   "source": [
    "selected_genes = set(list(mi_selected_genes[\"gene\"]) + list(chi2_selected_genes[\"gene\"]))\n",
    "\n",
    "len(selected_genes)\n",
    "\n",
    "##some of genes were selected by both metrics (roughly 600 genes, we need to pay attention to them more)"
   ]
  },
  {
   "cell_type": "code",
   "execution_count": null,
   "id": "cb6e8109",
   "metadata": {},
   "outputs": [],
   "source": []
  }
 ],
 "metadata": {
  "kernelspec": {
   "display_name": "Python 3 (ipykernel)",
   "language": "python",
   "name": "python3"
  },
  "language_info": {
   "codemirror_mode": {
    "name": "ipython",
    "version": 3
   },
   "file_extension": ".py",
   "mimetype": "text/x-python",
   "name": "python",
   "nbconvert_exporter": "python",
   "pygments_lexer": "ipython3",
   "version": "3.10.12"
  }
 },
 "nbformat": 4,
 "nbformat_minor": 5
}
